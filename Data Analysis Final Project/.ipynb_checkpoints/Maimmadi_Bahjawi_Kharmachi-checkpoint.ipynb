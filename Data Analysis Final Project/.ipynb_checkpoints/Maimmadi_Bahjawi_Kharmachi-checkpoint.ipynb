{
 "cells": [
  {
   "cell_type": "markdown",
   "metadata": {
    "colab_type": "text",
    "id": "kWdWCFYeL1mO"
   },
   "source": [
    "# CSC 2309 Final Project implementation\n",
    "Course: CSC2309                         \n",
    "Friday, December 16, 2022,        \n",
    "Ayoub Maimmadi,\n",
    "Fouzya Kharmachi, \n",
    "Fatima zahra Bahjawi, \n",
    "\n",
    "Instructor: Dr.Nasser Assem"
   ]
  },
  {
   "cell_type": "markdown",
   "metadata": {},
   "source": [
    "## Introduction\n",
    "Our goal is to effectively predict heart attacks before they happen. \n",
    "The reason we chose this specific dataset is because of the rapid increase in heart attack cases in our country, \n",
    "and we want to figure out the causes and reasons for such a disease to happen, and how it relates to other physiological \n",
    "factors in our bodies.\n",
    "using data easily obtainable from Kaggle, a data science company."
   ]
  },
  {
   "cell_type": "markdown",
   "metadata": {
    "colab_type": "text",
    "id": "BDhwXq4xA_3i"
   },
   "source": [
    "### Data Description"
   ]
  },
  {
   "cell_type": "raw",
   "metadata": {},
   "source": [
    "Age : Age of the patient\n",
    "Sex : Sex of the patient\n",
    "exang: exercise induced angina (1 = yes; 0 = no)\n",
    "ca: number of major vessels (0-3)\n",
    "cp : Chest Pain type chest pain type\n",
    "Value 1: typical angina\n",
    "Value 2: atypical angina\n",
    "Value 3: non-anginal pain\n",
    "Value 4: asymptomatic\n",
    "trtbps : resting blood pressure (in mm Hg)\n",
    "chol : cholestoral in mg/dl fetched via BMI sensor\n",
    "fbs : (fasting blood sugar > 120 mg/dl) (1 = true; 0 = false)\n",
    "rest_ecg : resting electrocardiographic results\n",
    "Value 0: normal\n",
    "Value 1: having ST-T wave abnormality (T wave inversions and/or ST elevation or depression of > 0.05 mV)\n",
    "Value 2: showing probable or definite left ventricular hypertrophy by Estes' criteria\n",
    "thalach : maximum heart rate achieved\n",
    "target : 0= less chance of heart attack 1= more chance of heart attack"
   ]
  },
  {
   "cell_type": "code",
   "execution_count": null,
   "metadata": {
    "colab": {
     "base_uri": "https://localhost:8080/",
     "height": 491
    },
    "colab_type": "code",
    "executionInfo": {
     "elapsed": 1372,
     "status": "ok",
     "timestamp": 1573719478409,
     "user": {
      "displayName": "Montu Saw",
      "photoUrl": "https://lh3.googleusercontent.com/a-/AAuE7mBRGBpww95BA8TSCucShu8nuVXOPOPqOy6-XE3K=s64",
      "userId": "04051579652075114519"
     },
     "user_tz": -330
    },
    "id": "l1ljZwkrZZr_",
    "outputId": "79066f82-abaa-4bb5-fcfa-b68ee86b2242"
   },
   "outputs": [],
   "source": [
    "import numpy as np\n",
    "import pandas as pd\n",
    "import seaborn as sns\n",
    "import matplotlib.pyplot as plt\n",
    "import math"
   ]
  },
  {
   "cell_type": "code",
   "execution_count": null,
   "metadata": {},
   "outputs": [],
   "source": [
    "# Reading the Dataset from the CVS file\n",
    "heart = pd.read_csv(\"heart.csv\")"
   ]
  },
  {
   "cell_type": "code",
   "execution_count": null,
   "metadata": {},
   "outputs": [],
   "source": [
    "heart.head(30)"
   ]
  },
  {
   "cell_type": "code",
   "execution_count": null,
   "metadata": {
    "scrolled": true
   },
   "outputs": [],
   "source": [
    "heart.info()"
   ]
  },
  {
   "cell_type": "code",
   "execution_count": null,
   "metadata": {},
   "outputs": [],
   "source": [
    "heart.describe()"
   ]
  },
  {
   "cell_type": "markdown",
   "metadata": {
    "colab_type": "text",
    "id": "6KHC_UiLBVMq"
   },
   "source": [
    "# **2. Plotting the Graphs**"
   ]
  },
  {
   "cell_type": "code",
   "execution_count": null,
   "metadata": {},
   "outputs": [],
   "source": [
    "heart[\"age\"].plot.hist()"
   ]
  },
  {
   "cell_type": "code",
   "execution_count": null,
   "metadata": {
    "colab": {
     "base_uri": "https://localhost:8080/",
     "height": 296
    },
    "colab_type": "code",
    "executionInfo": {
     "elapsed": 2187,
     "status": "ok",
     "timestamp": 1573719479246,
     "user": {
      "displayName": "Montu Saw",
      "photoUrl": "https://lh3.googleusercontent.com/a-/AAuE7mBRGBpww95BA8TSCucShu8nuVXOPOPqOy6-XE3K=s64",
      "userId": "04051579652075114519"
     },
     "user_tz": -330
    },
    "id": "Nqq31wTumdAw",
    "outputId": "772773aa-e806-43b1-81aa-f13f130a5965"
   },
   "outputs": [],
   "source": [
    "sns.countplot(x=\"sex\", data=heart)"
   ]
  },
  {
   "cell_type": "code",
   "execution_count": null,
   "metadata": {},
   "outputs": [],
   "source": [
    "sns.countplot(x=\"cp\", data=heart)"
   ]
  },
  {
   "cell_type": "code",
   "execution_count": null,
   "metadata": {
    "colab": {
     "base_uri": "https://localhost:8080/",
     "height": 282
    },
    "colab_type": "code",
    "executionInfo": {
     "elapsed": 3204,
     "status": "ok",
     "timestamp": 1573719480278,
     "user": {
      "displayName": "Montu Saw",
      "photoUrl": "https://lh3.googleusercontent.com/a-/AAuE7mBRGBpww95BA8TSCucShu8nuVXOPOPqOy6-XE3K=s64",
      "userId": "04051579652075114519"
     },
     "user_tz": -330
    },
    "id": "_4LfZBLczKAP",
    "outputId": "41bc8604-68b5-4dc7-e7ca-fe857669fd3b"
   },
   "outputs": [],
   "source": [
    "heart[\"trestbps\"].plot.hist()"
   ]
  },
  {
   "cell_type": "code",
   "execution_count": null,
   "metadata": {
    "colab": {
     "base_uri": "https://localhost:8080/",
     "height": 282
    },
    "colab_type": "code",
    "executionInfo": {
     "elapsed": 3195,
     "status": "ok",
     "timestamp": 1573719480279,
     "user": {
      "displayName": "Montu Saw",
      "photoUrl": "https://lh3.googleusercontent.com/a-/AAuE7mBRGBpww95BA8TSCucShu8nuVXOPOPqOy6-XE3K=s64",
      "userId": "04051579652075114519"
     },
     "user_tz": -330
    },
    "id": "D-iy04uJ3RGZ",
    "outputId": "8cd97767-2c7b-42ad-870a-5214abcd366e",
    "scrolled": true
   },
   "outputs": [],
   "source": [
    "plt.hist(heart.chol)"
   ]
  },
  {
   "cell_type": "code",
   "execution_count": null,
   "metadata": {},
   "outputs": [],
   "source": [
    "sns.countplot(x=\"fbs\", data=heart)"
   ]
  },
  {
   "cell_type": "code",
   "execution_count": null,
   "metadata": {},
   "outputs": [],
   "source": [
    "sns.countplot(x=\"restecg\", data=heart)"
   ]
  },
  {
   "cell_type": "code",
   "execution_count": null,
   "metadata": {
    "scrolled": true
   },
   "outputs": [],
   "source": [
    "heart[\"thalach\"].plot.hist()"
   ]
  },
  {
   "cell_type": "code",
   "execution_count": null,
   "metadata": {
    "colab": {
     "base_uri": "https://localhost:8080/",
     "height": 296
    },
    "colab_type": "code",
    "executionInfo": {
     "elapsed": 4034,
     "status": "ok",
     "timestamp": 1573719481138,
     "user": {
      "displayName": "Montu Saw",
      "photoUrl": "https://lh3.googleusercontent.com/a-/AAuE7mBRGBpww95BA8TSCucShu8nuVXOPOPqOy6-XE3K=s64",
      "userId": "04051579652075114519"
     },
     "user_tz": -330
    },
    "id": "GFQl8Br-nRyM",
    "outputId": "fd6736ae-bb3d-487a-c124-85901994711b"
   },
   "outputs": [],
   "source": [
    "sns.countplot(x=\"exang\", data=heart)"
   ]
  },
  {
   "cell_type": "code",
   "execution_count": null,
   "metadata": {},
   "outputs": [],
   "source": [
    "heart[\"oldpeak\"].plot.hist()"
   ]
  },
  {
   "cell_type": "code",
   "execution_count": null,
   "metadata": {},
   "outputs": [],
   "source": [
    "sns.countplot(x=\"slope\", data=heart)"
   ]
  },
  {
   "cell_type": "code",
   "execution_count": null,
   "metadata": {},
   "outputs": [],
   "source": [
    "sns.countplot(x=\"ca\", data=heart)"
   ]
  },
  {
   "cell_type": "code",
   "execution_count": null,
   "metadata": {},
   "outputs": [],
   "source": [
    "sns.countplot(x=\"thal\", data=heart)"
   ]
  },
  {
   "cell_type": "code",
   "execution_count": null,
   "metadata": {},
   "outputs": [],
   "source": [
    "sns.countplot(x=\"target\", data=heart)"
   ]
  },
  {
   "cell_type": "code",
   "execution_count": null,
   "metadata": {},
   "outputs": [],
   "source": [
    "sns.pairplot(data=heart)\n",
    "fig = plt.figure(figsize = (80,25))\n",
    "sns.countplot(heart.chol)"
   ]
  },
  {
   "cell_type": "code",
   "execution_count": null,
   "metadata": {},
   "outputs": [],
   "source": [
    "sns.boxplot(heart.chol)\n",
    "heart1 = heart"
   ]
  },
  {
   "cell_type": "code",
   "execution_count": null,
   "metadata": {
    "scrolled": true
   },
   "outputs": [],
   "source": [
    "age = heart['age'].value_counts().sort_values(ascending=False)\n",
    "age.plot(kind=\"bar\", figsize = (14,6), fontsize = 10,color=\"green\")\n",
    "plt.xlabel(\"\", fontsize = 20)\n",
    "plt.ylabel(\"\", fontsize = 20)\n",
    "plt.title(\"Count of age values\", fontsize = 20)"
   ]
  },
  {
   "cell_type": "code",
   "execution_count": null,
   "metadata": {},
   "outputs": [],
   "source": [
    "df = pd.read_csv(\"heart.csv\") # Read the data from the cvs file and store it in df "
   ]
  },
  {
   "cell_type": "markdown",
   "metadata": {
    "colab_type": "text",
    "id": "JPC8_IG3BtBy"
   },
   "source": [
    "# **3. Finding the Null values**"
   ]
  },
  {
   "cell_type": "code",
   "execution_count": null,
   "metadata": {
    "colab": {
     "base_uri": "https://localhost:8080/",
     "height": 402
    },
    "colab_type": "code",
    "executionInfo": {
     "elapsed": 4030,
     "status": "ok",
     "timestamp": 1573719481142,
     "user": {
      "displayName": "Montu Saw",
      "photoUrl": "https://lh3.googleusercontent.com/a-/AAuE7mBRGBpww95BA8TSCucShu8nuVXOPOPqOy6-XE3K=s64",
      "userId": "04051579652075114519"
     },
     "user_tz": -330
    },
    "id": "NxYqXYWxff2X",
    "outputId": "ec36fc00-9f90-452a-b9f8-828d5f68e39c"
   },
   "outputs": [],
   "source": [
    "heart.isnull()"
   ]
  },
  {
   "cell_type": "code",
   "execution_count": null,
   "metadata": {
    "colab": {
     "base_uri": "https://localhost:8080/",
     "height": 302
    },
    "colab_type": "code",
    "executionInfo": {
     "elapsed": 4030,
     "status": "ok",
     "timestamp": 1573719481149,
     "user": {
      "displayName": "Montu Saw",
      "photoUrl": "https://lh3.googleusercontent.com/a-/AAuE7mBRGBpww95BA8TSCucShu8nuVXOPOPqOy6-XE3K=s64",
      "userId": "04051579652075114519"
     },
     "user_tz": -330
    },
    "id": "5pJtumqWfmRt",
    "outputId": "830da84a-1867-4fe0-bd25-daf7c2336c5e"
   },
   "outputs": [],
   "source": [
    "heart.isnull().sum()"
   ]
  },
  {
   "cell_type": "code",
   "execution_count": null,
   "metadata": {
    "scrolled": false
   },
   "outputs": [],
   "source": [
    "df.hist(figsize=(12,12)) #Understanding the data using Visualisation\n",
    "df.plot(kind='box',subplots=True,layout=(4,4),sharex=False,sharey=False,figsize=(18,18))"
   ]
  },
  {
   "cell_type": "code",
   "execution_count": null,
   "metadata": {},
   "outputs": [],
   "source": [
    "df.corr() #Let us see that whether there is any relationship between the attributes."
   ]
  },
  {
   "cell_type": "code",
   "execution_count": null,
   "metadata": {},
   "outputs": [],
   "source": [
    "#We cannot get a proper picture with the above analysis, let us draw a correlation graph for our better understanding.\n",
    "fig=plt.figure(figsize=(15,15))\n",
    "ax=fig.add_subplot(111)\n",
    "cax=ax.matshow(df.corr(),vmin=-1,vmax=1)\n",
    "fig.colorbar(cax)\n",
    "ticks=np.arange(0,14,1)\n",
    "ax.set_xticks(ticks)\n",
    "ax.set_yticks(ticks)\n",
    "ax.set_xticklabels(df.columns)\n",
    "ax.set_yticklabels(df.columns)"
   ]
  },
  {
   "cell_type": "code",
   "execution_count": null,
   "metadata": {},
   "outputs": [],
   "source": [
    "## Let us see that how many people are suffering from heart attack disease\n",
    "df.groupby('sex').size()"
   ]
  },
  {
   "cell_type": "code",
   "execution_count": null,
   "metadata": {},
   "outputs": [],
   "source": [
    "df.groupby('target').size() "
   ]
  },
  {
   "cell_type": "code",
   "execution_count": null,
   "metadata": {},
   "outputs": [],
   "source": [
    "abc = pd.crosstab(df['sex'],df['target'])\n",
    "abc"
   ]
  },
  {
   "cell_type": "code",
   "execution_count": null,
   "metadata": {},
   "outputs": [],
   "source": [
    "abc = pd.crosstab(df['sex'],df['cp'])\n",
    "abc"
   ]
  },
  {
   "cell_type": "code",
   "execution_count": null,
   "metadata": {},
   "outputs": [],
   "source": [
    "female_risk_percent = (len(df.loc[((df['sex']==0) & df['target']==1) ])/len(df.loc[df['sex']==0]))*100\n",
    "male_risk_percent = (len(df.loc[((df['sex']==1) & df['target']==1) ])/len(df.loc[df['sex']==1]))*100\n",
    "print('percentage males at risk : ',male_risk_percent)\n",
    "print('percentage females at risk : ',female_risk_percent)"
   ]
  },
  {
   "cell_type": "code",
   "execution_count": null,
   "metadata": {
    "scrolled": true
   },
   "outputs": [],
   "source": [
    "#We can see that the females are at greater risk of heart attack than males. Let us plot the graph between sex and target for a clearer view.\n",
    "abc = pd.crosstab(df.sex,df.cp)\n",
    "abc.plot(kind='bar',stacked=False,figsize=(15,8))"
   ]
  },
  {
   "cell_type": "code",
   "execution_count": null,
   "metadata": {
    "scrolled": false
   },
   "outputs": [],
   "source": [
    "## We should also see that how different ages can have the risk of heart attack\n",
    "#Let us draw a barplot between age and target.\n",
    "xyz = pd.crosstab(df.age,df.target)\n",
    "xyz.plot(kind='bar',stacked=False,figsize=(15,8))"
   ]
  },
  {
   "cell_type": "code",
   "execution_count": null,
   "metadata": {},
   "outputs": [],
   "source": [
    "#We can see that the people between the age of 40 to 55 are at higher risk of heart attack.¶\n",
    "## Let us see that how chestpain is related with heart attack.\n",
    "pqr = pd.crosstab(df.cp,df.target)\n",
    "pqr\n",
    "pqr.plot(kind='bar',figsize=(12,5))"
   ]
  },
  {
   "cell_type": "code",
   "execution_count": null,
   "metadata": {},
   "outputs": [],
   "source": [
    "#We can see that if a person has chest pain type 2 ,then he has higher chance of heart attack and if a person has chest pain type 0 , then he has a very little risk of heart attack.\n",
    "## See the relationship between thal and risk of heart attack\n",
    "mno = pd.crosstab(df.thal,df.target)\n",
    "mno\n",
    "mno.plot(kind='bar', stacked=False, color=['#2471a3','#ec7063'],figsize=(12,5))"
   ]
  },
  {
   "cell_type": "code",
   "execution_count": null,
   "metadata": {},
   "outputs": [],
   "source": [
    "sns.boxplot(heart.chol)"
   ]
  },
  {
   "cell_type": "code",
   "execution_count": null,
   "metadata": {},
   "outputs": [],
   "source": [
    "ax = sns.boxplot(x=\"age\", y=\"chol\", data=heart)"
   ]
  },
  {
   "cell_type": "code",
   "execution_count": null,
   "metadata": {},
   "outputs": [],
   "source": [
    "ax = sns.boxplot(x=\"age\", y=\"thalach\", hue=\"target\",\n",
    "                 data=heart, palette=\"tab20_r\")"
   ]
  },
  {
   "cell_type": "markdown",
   "metadata": {
    "colab_type": "text",
    "id": "cePZ8_u6CHWT"
   },
   "source": [
    "# **5. Droping the values**"
   ]
  },
  {
   "cell_type": "code",
   "execution_count": null,
   "metadata": {
    "colab": {
     "base_uri": "https://localhost:8080/",
     "height": 195
    },
    "colab_type": "code",
    "executionInfo": {
     "elapsed": 4014,
     "status": "ok",
     "timestamp": 1573719481151,
     "user": {
      "displayName": "Montu Saw",
      "photoUrl": "https://lh3.googleusercontent.com/a-/AAuE7mBRGBpww95BA8TSCucShu8nuVXOPOPqOy6-XE3K=s64",
      "userId": "04051579652075114519"
     },
     "user_tz": -330
    },
    "id": "oHsS81oOtLM7",
    "outputId": "592e2355-aadf-430e-b811-068905e14856"
   },
   "outputs": [],
   "source": [
    "#eart.drop(\"slope\", axis=1, inplace=True)\n",
    "#eart.head()"
   ]
  },
  {
   "cell_type": "markdown",
   "metadata": {
    "colab_type": "text",
    "id": "89Tx6XN2Cps2"
   },
   "source": [
    "# **6. Replacing the Null Values**"
   ]
  },
  {
   "cell_type": "code",
   "execution_count": null,
   "metadata": {
    "colab": {
     "base_uri": "https://localhost:8080/",
     "height": 34
    },
    "colab_type": "code",
    "executionInfo": {
     "elapsed": 4003,
     "status": "ok",
     "timestamp": 1573719481151,
     "user": {
      "displayName": "Montu Saw",
      "photoUrl": "https://lh3.googleusercontent.com/a-/AAuE7mBRGBpww95BA8TSCucShu8nuVXOPOPqOy6-XE3K=s64",
      "userId": "04051579652075114519"
     },
     "user_tz": -330
    },
    "id": "RkDplF-8vupk",
    "outputId": "c951020f-78a5-40b1-909b-1ac9d0a509ca"
   },
   "outputs": [],
   "source": [
    "m=np.mean(heart[\"chol\"])\n",
    "print(m)"
   ]
  },
  {
   "cell_type": "code",
   "execution_count": null,
   "metadata": {
    "colab": {},
    "colab_type": "code",
    "id": "bv-xSVrOw_bU"
   },
   "outputs": [],
   "source": [
    "heart[\"chol\"].replace(to_replace = np.nan, value = m, inplace=True)\n",
    "#heart[\"ca\"].replace(to_replace = np.nan, value = 25, inplace=True)\n",
    "#heart[\"exang\"].replace(to_replace = np.nan, value = 5, inplace=True)\n",
    "#heart[\"thalach\"].replace(to_replace = np.nan, value = 90, inplace=True)\n",
    "#heart[\"target\"].replace(to_replace = np.nan, value = 1, inplace=True)\n",
    "#heart(\"target\", axis=1, inplace=True)"
   ]
  },
  {
   "cell_type": "code",
   "execution_count": null,
   "metadata": {
    "colab": {
     "base_uri": "https://localhost:8080/",
     "height": 282
    },
    "colab_type": "code",
    "executionInfo": {
     "elapsed": 5110,
     "status": "ok",
     "timestamp": 1573719482274,
     "user": {
      "displayName": "Montu Saw",
      "photoUrl": "https://lh3.googleusercontent.com/a-/AAuE7mBRGBpww95BA8TSCucShu8nuVXOPOPqOy6-XE3K=s64",
      "userId": "04051579652075114519"
     },
     "user_tz": -330
    },
    "id": "rtZIlWVH0eHr",
    "outputId": "a08e5395-e2a4-486d-a138-d6a309a07beb"
   },
   "outputs": [],
   "source": [
    "heart[\"chol\"].plot.hist()"
   ]
  },
  {
   "cell_type": "code",
   "execution_count": null,
   "metadata": {
    "colab": {
     "base_uri": "https://localhost:8080/",
     "height": 343
    },
    "colab_type": "code",
    "executionInfo": {
     "elapsed": 5102,
     "status": "ok",
     "timestamp": 1573719482275,
     "user": {
      "displayName": "Montu Saw",
      "photoUrl": "https://lh3.googleusercontent.com/a-/AAuE7mBRGBpww95BA8TSCucShu8nuVXOPOPqOy6-XE3K=s64",
      "userId": "04051579652075114519"
     },
     "user_tz": -330
    },
    "id": "fxxiIqeKysQ0",
    "outputId": "99c2fba3-5659-4e6d-81c8-89917176081a"
   },
   "outputs": [],
   "source": [
    "heart.head(10)"
   ]
  },
  {
   "cell_type": "code",
   "execution_count": null,
   "metadata": {
    "colab": {
     "base_uri": "https://localhost:8080/",
     "height": 356
    },
    "colab_type": "code",
    "executionInfo": {
     "elapsed": 5093,
     "status": "ok",
     "timestamp": 1573719482276,
     "user": {
      "displayName": "Montu Saw",
      "photoUrl": "https://lh3.googleusercontent.com/a-/AAuE7mBRGBpww95BA8TSCucShu8nuVXOPOPqOy6-XE3K=s64",
      "userId": "04051579652075114519"
     },
     "user_tz": -330
    },
    "id": "SDhYfxh-zFBC",
    "outputId": "b04eed23-90cb-449a-e10c-6d3d735b8cb8",
    "scrolled": false
   },
   "outputs": [],
   "source": [
    "sns.heatmap(heart.isnull(), yticklabels=False, cmap=\"viridis\")"
   ]
  },
  {
   "cell_type": "code",
   "execution_count": null,
   "metadata": {
    "colab": {
     "base_uri": "https://localhost:8080/",
     "height": 252
    },
    "colab_type": "code",
    "executionInfo": {
     "elapsed": 5076,
     "status": "ok",
     "timestamp": 1573719482279,
     "user": {
      "displayName": "Montu Saw",
      "photoUrl": "https://lh3.googleusercontent.com/a-/AAuE7mBRGBpww95BA8TSCucShu8nuVXOPOPqOy6-XE3K=s64",
      "userId": "04051579652075114519"
     },
     "user_tz": -330
    },
    "id": "2jzFxhpB9qsB",
    "outputId": "e46093eb-ed87-4f23-af58-916d9bc10c77"
   },
   "outputs": [],
   "source": [
    "heart.isnull().sum()"
   ]
  },
  {
   "cell_type": "markdown",
   "metadata": {},
   "source": [
    "#  Linear Regression"
   ]
  },
  {
   "cell_type": "code",
   "execution_count": null,
   "metadata": {},
   "outputs": [],
   "source": [
    "import pandas as pd\n",
    "import matplotlib.pyplot as plt\n",
    "import seaborn as sns"
   ]
  },
  {
   "cell_type": "code",
   "execution_count": null,
   "metadata": {
    "scrolled": true
   },
   "outputs": [],
   "source": [
    "heart = pd.read_csv(\"heart.csv\")\n",
    "heart"
   ]
  },
  {
   "cell_type": "code",
   "execution_count": null,
   "metadata": {},
   "outputs": [],
   "source": [
    "heart.describe()"
   ]
  },
  {
   "cell_type": "code",
   "execution_count": null,
   "metadata": {},
   "outputs": [],
   "source": [
    "sns.set(style=\"ticks\", color_codes=True)\n",
    "sns.pairplot(heart, hue='target', height=1.5);"
   ]
  },
  {
   "cell_type": "markdown",
   "metadata": {},
   "source": [
    "# # Simple Linear Regression"
   ]
  },
  {
   "cell_type": "markdown",
   "metadata": {},
   "source": [
    "### Training"
   ]
  },
  {
   "cell_type": "code",
   "execution_count": null,
   "metadata": {},
   "outputs": [],
   "source": [
    "heart.plot.scatter(x='age', y='trestbps',\n",
    "title=\"heart data set\",\n",
    "xlabel=\"age\", ylabel=\"resting blood pressure\");\n",
    "#chol trestbps thalach"
   ]
  },
  {
   "cell_type": "code",
   "execution_count": null,
   "metadata": {},
   "outputs": [],
   "source": [
    "g = sns.scatterplot(data=heart, x='age', y='thalach',\n",
    "hue='cp');\n",
    "g.set(title = \" data set\",\n",
    "xlabel = \"age\", ylabel = \"max heart rate\")"
   ]
  },
  {
   "cell_type": "code",
   "execution_count": null,
   "metadata": {},
   "outputs": [],
   "source": [
    "from sklearn.linear_model import LinearRegression"
   ]
  },
  {
   "cell_type": "code",
   "execution_count": null,
   "metadata": {},
   "outputs": [],
   "source": [
    "# age is the independent variable (predictor)\n",
    "X_heart = heart['age'].to_frame()\n",
    "y_heart = heart['trestbps'] #  is the dependent variable\n",
    "# Use holdout method to split the dataset into training data and test data\n",
    "from sklearn.model_selection import train_test_split\n",
    "Xtrain, Xtest, ytrain, ytest = train_test_split(X_heart, y_heart, random_state=42)\n"
   ]
  },
  {
   "cell_type": "code",
   "execution_count": null,
   "metadata": {},
   "outputs": [],
   "source": [
    "model.fit(Xtrain, ytrain);"
   ]
  },
  {
   "cell_type": "code",
   "execution_count": null,
   "metadata": {},
   "outputs": [],
   "source": [
    "ypred = model.predict(Xtest)"
   ]
  },
  {
   "cell_type": "code",
   "execution_count": null,
   "metadata": {},
   "outputs": [],
   "source": [
    "plt.plot(Xtrain, ytrain, 'bo', label=\"training data\")\n",
    "plt.plot(Xtest, ytest, 'ro', label=\"test data\")\n",
    "plt.plot(Xtest, ypred, 'go-', label=\"predicted data\")\n",
    "plt.title(\"Heart data - linear regression\")\n",
    "plt.xlabel(\"age (yrs)\")\n",
    "plt.ylabel(\"resting blood pressure (in mm Hg)\")\n",
    "plt.legend(title=\"data\");\n"
   ]
  },
  {
   "cell_type": "code",
   "execution_count": null,
   "metadata": {},
   "outputs": [],
   "source": [
    " model = LinearRegression() "
   ]
  },
  {
   "cell_type": "code",
   "execution_count": null,
   "metadata": {},
   "outputs": [],
   "source": [
    "# age is the independent variable (predictor)\n",
    "X_heart = heart['age'].to_frame()\n",
    "y_heart = heart['trestbps'] # max heart rate is the dependent variable\n",
    "# Use holdout method to split the dataset into training data and test data\n",
    "Xtrain, Xtest, ytrain, ytest = train_test_split(X_heart, y_heart, random_state=42)\n"
   ]
  },
  {
   "cell_type": "code",
   "execution_count": null,
   "metadata": {},
   "outputs": [],
   "source": [
    "model.fit(Xtrain, ytrain);"
   ]
  },
  {
   "cell_type": "code",
   "execution_count": null,
   "metadata": {},
   "outputs": [],
   "source": [
    " ypred = model.predict(Xtest)"
   ]
  },
  {
   "cell_type": "code",
   "execution_count": null,
   "metadata": {
    "scrolled": true
   },
   "outputs": [],
   "source": [
    "from sklearn.metrics import r2_score\n",
    "r2 = r2_score(ytest, ypred)\n",
    "print(\"R-squared: %0.3f\" % r2)"
   ]
  },
  {
   "cell_type": "code",
   "execution_count": null,
   "metadata": {},
   "outputs": [],
   "source": [
    "g = sns.scatterplot(data=heart, x='chol', y='age');\n",
    "g.set(title = \"heart data set\",\n",
    "      xlabel = \"chol\", ylabel = \"target\");\n",
    "from sklearn.linear_model import LinearRegression\n",
    "model = LinearRegression()\n",
    "X_heart = heart['chol'].to_frame()\n",
    "y_heart = heart['age']        \n",
    "\n",
    " \n",
    "\n",
    "from sklearn.model_selection import train_test_split\n",
    "Xtrain, Xtest, ytrain, ytest = train_test_split(X_heart, y_heart, random_state=45)\n",
    "model.fit(Xtrain, ytrain);\n",
    "ypred = model.predict(Xtest)\n",
    "from sklearn.metrics import r2_score\n",
    "r2 = r2_score(ytest, ypred)\n",
    "print(\"R-squared: %0.3f\" % r2)\n",
    "\n",
    " \n",
    "\n",
    "plt.plot(Xtrain, ytrain, 'bo', label=\"training data\")\n",
    "plt.plot(Xtest, ytest, 'ro', label=\"test data\")\n",
    "plt.plot(Xtest, ypred, 'go-', label=\"predicted data\")\n",
    "plt.title(\"heart data - linear regression\")\n",
    "plt.xlabel(\"chol\")\n",
    "plt.ylabel(\"age\")\n",
    "plt.legend(title=\"data\");"
   ]
  },
  {
   "cell_type": "markdown",
   "metadata": {
    "colab_type": "text",
    "id": "4AWVIkoZDSmD"
   },
   "source": [
    "# #*7. Train and Test*"
   ]
  },
  {
   "cell_type": "code",
   "execution_count": null,
   "metadata": {},
   "outputs": [],
   "source": [
    "heart.drop(\"slope\", axis=1, inplace=True)\n",
    "heart.head()"
   ]
  },
  {
   "cell_type": "code",
   "execution_count": null,
   "metadata": {
    "scrolled": true
   },
   "outputs": [],
   "source": [
    "heart.drop(\"oldpeak\", axis=1, inplace=True)\n",
    "heart.head()"
   ]
  },
  {
   "cell_type": "code",
   "execution_count": null,
   "metadata": {},
   "outputs": [],
   "source": [
    "heart.drop(\"thal\", axis=1, inplace=True)\n",
    "heart.head()"
   ]
  },
  {
   "cell_type": "code",
   "execution_count": null,
   "metadata": {
    "scrolled": true
   },
   "outputs": [],
   "source": [
    "heart.columns"
   ]
  },
  {
   "cell_type": "code",
   "execution_count": null,
   "metadata": {
    "scrolled": false
   },
   "outputs": [],
   "source": [
    "heart.columns = ['Age', 'Sex', 'CP', 'Bld Prssr', 'Chlstrl', 'Bld Sgr', 'ECG', 'Max HR',\n",
    "       'Ex Angina', 'Vessels', 'HA Risk']\n",
    "heart"
   ]
  },
  {
   "cell_type": "code",
   "execution_count": null,
   "metadata": {},
   "outputs": [],
   "source": [
    "#ADD expl of variable"
   ]
  },
  {
   "cell_type": "code",
   "execution_count": null,
   "metadata": {},
   "outputs": [],
   "source": [
    " heart.groupby('HA Risk').size()"
   ]
  },
  {
   "cell_type": "code",
   "execution_count": null,
   "metadata": {
    "scrolled": true
   },
   "outputs": [],
   "source": [
    "heart.info()"
   ]
  },
  {
   "cell_type": "code",
   "execution_count": null,
   "metadata": {},
   "outputs": [],
   "source": [
    "heart.describe()"
   ]
  },
  {
   "cell_type": "code",
   "execution_count": null,
   "metadata": {
    "scrolled": false
   },
   "outputs": [],
   "source": [
    "import seaborn as sns\n",
    "sns.pairplot(heart, hue='HA Risk', height=1.25);"
   ]
  },
  {
   "cell_type": "markdown",
   "metadata": {},
   "source": [
    "### Classification Model"
   ]
  },
  {
   "cell_type": "code",
   "execution_count": null,
   "metadata": {},
   "outputs": [],
   "source": [
    "heart = pd.read_csv(\"heart.csv\")"
   ]
  },
  {
   "cell_type": "code",
   "execution_count": null,
   "metadata": {
    "scrolled": true
   },
   "outputs": [],
   "source": [
    "from sklearn.tree import DecisionTreeClassifier"
   ]
  },
  {
   "cell_type": "code",
   "execution_count": null,
   "metadata": {},
   "outputs": [],
   "source": [
    "tree = DecisionTreeClassifier()"
   ]
  },
  {
   "cell_type": "code",
   "execution_count": null,
   "metadata": {},
   "outputs": [],
   "source": [
    "X_heart = heart[['sex', 'age', 'cp', 'trestbps', 'chol', 'fbs', 'restecg', 'thalach', 'exang', 'oldpeak']]\n",
    "y_heart = heart['target'] "
   ]
  },
  {
   "cell_type": "code",
   "execution_count": null,
   "metadata": {},
   "outputs": [],
   "source": [
    "from sklearn.model_selection import train_test_split\n",
    "Xtrain, Xtest, ytrain, ytest = train_test_split(X_heart, y_heart, random_state=0)"
   ]
  },
  {
   "cell_type": "code",
   "execution_count": null,
   "metadata": {},
   "outputs": [],
   "source": [
    "ytest.groupby(ytest).size()"
   ]
  },
  {
   "cell_type": "code",
   "execution_count": null,
   "metadata": {},
   "outputs": [],
   "source": [
    "tree.fit(Xtrain, ytrain);\n",
    "ypred = tree.predict(Xtest)"
   ]
  },
  {
   "cell_type": "code",
   "execution_count": null,
   "metadata": {},
   "outputs": [],
   "source": [
    "from sklearn.metrics import accuracy_score\n",
    "acc = accuracy_score(ytest, ypred)\n",
    "print(\"Accuracy: %0.2f%%\" % (100 * acc))"
   ]
  },
  {
   "cell_type": "code",
   "execution_count": null,
   "metadata": {},
   "outputs": [],
   "source": [
    "from sklearn.metrics import confusion_matrix, ConfusionMatrixDisplay\n",
    "cm = confusion_matrix(ytest, ypred, labels=tree.classes_)\n",
    "cm"
   ]
  },
  {
   "cell_type": "code",
   "execution_count": null,
   "metadata": {},
   "outputs": [],
   "source": [
    "import matplotlib.pyplot as plt\n",
    "plt.figure(figsize=(2.6, 2.6))\n",
    "ax = sns.heatmap(cm, vmin=0, vmax=0, cmap='gray_r', annot=True,\n",
    "linewidths=0.5, linecolor='k', cbar=False,\n",
    "xticklabels=tree.classes_, yticklabels=tree.classes_);\n",
    "ax.set(title='Confusion matrix', xlabel='Predicted label', ylabel='True label')\n",
    "# re-enable outer spines\n",
    "sns.despine(left=False, right=False, top=False, bottom=False)\n"
   ]
  },
  {
   "cell_type": "code",
   "execution_count": null,
   "metadata": {},
   "outputs": [],
   "source": [
    "print(pd.Series(ypred).groupby(ypred).size())"
   ]
  },
  {
   "cell_type": "markdown",
   "metadata": {},
   "source": [
    "# Conclusion:\n",
    "    # 1) Patients' age have normal distribution with an average at 54 years old.\n",
    "    # 2) The minimum and maximum resting blood pressure (trtbps) among the patients\n",
    "         # at 94 mmHg and 200 mmHg respectively with average at 131 mmHg.\n",
    "    # 3) The minimum and maximum cholesterol (chol) among the patients\n",
    "         # at 126 mg/dl and 564 mg/dl respectively with average at 246 mg/dl.\n",
    "    # 4) The patients maximum heart rate achieved distribution \n",
    "         # is a little bit negatively skewed. The minimum and maximum heart rate \n",
    "         # achieved (thalachh) among the patients at 71 BPM and 202 BPM \n",
    "         # respectively with average at 149 BPM.\n",
    "    # 5) The oldpeak distribution is rightly skewed (positively skewed) with\n",
    "         # minimum and maximum at 0 and 6.2 respectively. Meanwhile tha average\n",
    "         # at 1.\n",
    "    # 6) The maximum resting blood pressure at 200mmHg indicates extremely \n",
    "         # high blood pressure and leads to stroke\n",
    "    # 7) For someone has cholesterol level of 564 mg/dl is possible especially\n",
    "         # for someone with familial hypercholesterolemia."
   ]
  }
 ],
 "metadata": {
  "accelerator": "GPU",
  "colab": {
   "collapsed_sections": [],
   "name": "ITW.ipynb",
   "provenance": []
  },
  "kernelspec": {
   "display_name": "Python 3 (ipykernel)",
   "language": "python",
   "name": "python3"
  },
  "language_info": {
   "codemirror_mode": {
    "name": "ipython",
    "version": 3
   },
   "file_extension": ".py",
   "mimetype": "text/x-python",
   "name": "python",
   "nbconvert_exporter": "python",
   "pygments_lexer": "ipython3",
   "version": "3.9.12"
  }
 },
 "nbformat": 4,
 "nbformat_minor": 1
}
